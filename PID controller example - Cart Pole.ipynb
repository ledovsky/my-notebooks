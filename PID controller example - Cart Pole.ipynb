{
 "cells": [
  {
   "cell_type": "markdown",
   "metadata": {},
   "source": [
    "# PID controller example\n",
    "\n",
    "In the following noteook I use [Cart Pole](https://www.gymlibrary.dev/environments/classic_control/cart_pole/) Gymnasium enviromnent to test PID controller mechanics\n",
    "\n",
    "PID controller details on [Wikipedia](https://en.wikipedia.org/wiki/Proportional%E2%80%93integral%E2%80%93derivative_controller)\n",
    "\n",
    "The classical PID formula includes 3 components: error, error's derivative, error's integral. Let $e$ be an error of the control loop and $u$ be a control variable\n",
    "\n",
    "$$\n",
    "u = e \\cdot K_p + \\frac{de}{dt} K_d + \\int e \\cdot dt * K_i\n",
    "$$\n",
    "\n",
    "Still, everything does not fill to Cart Pole env out of the box\n",
    "\n",
    "\n",
    "**Problem 1**. Cart Pole has two objectives: keep the pole in the vertical position and keep it centered.\n",
    "\n",
    "Tweak 1. Use a composite error\n",
    "\n",
    "$$\n",
    "e = e_{angle} * 0.1 * e_{position}\n",
    "$$\n",
    "\n",
    "**Problem 2** Actions are binary (0 or 1)\n",
    "\n",
    "Tweak 2. Binarize PID output\n",
    "\n",
    "$$\n",
    "Action = sign(u)\n",
    "$$\n",
    "\n",
    "**Results**\n",
    "\n",
    "1. I found coeffs manually. It required a really short amount of time\n",
    "2. Integral component appeared to be useless in this environment"
   ]
  },
  {
   "cell_type": "markdown",
   "metadata": {},
   "source": [
    "![Cart Pole GIF should be here](https://www.gymlibrary.dev/_images/cart_pole.gif)"
   ]
  },
  {
   "cell_type": "code",
   "execution_count": 1,
   "metadata": {},
   "outputs": [],
   "source": [
    "import gymnasium as gym"
   ]
  },
  {
   "cell_type": "code",
   "execution_count": 2,
   "metadata": {},
   "outputs": [],
   "source": [
    "class PIDAgent:\n",
    "    def __init__(self, kp, ki, kd):\n",
    "        self.kp = kp\n",
    "        self.ki = ki\n",
    "        self.kd = kd\n",
    "        self.integral_error = 0\n",
    "        self.prev_error = 0\n",
    "    \n",
    "    def get_action(self, observation):\n",
    "        error = observation[2] + 0.1 * observation[0]\n",
    "        diff_error = error - self.prev_error\n",
    "        self.integral_error += error\n",
    "        p = error * self.kp + self.integral_error * self.ki + diff_error * self.kd\n",
    "        self.prev_error = error\n",
    "        return int(p > 0)"
   ]
  },
  {
   "cell_type": "code",
   "execution_count": 3,
   "metadata": {},
   "outputs": [],
   "source": [
    "kp = 1\n",
    "ki = 0\n",
    "kd = 4"
   ]
  },
  {
   "cell_type": "code",
   "execution_count": 4,
   "metadata": {},
   "outputs": [
    {
     "name": "stdout",
     "output_type": "stream",
     "text": [
      "Reward = 1.00, n rounds = 99\n"
     ]
    }
   ],
   "source": [
    "agent = PIDAgent(kp, ki, kd)\n",
    "\n",
    "env = gym.make(\"CartPole-v1\", render_mode=\"human\")\n",
    "observation, info = env.reset(seed=100)\n",
    "cum_reward = 0\n",
    "\n",
    "for i in range(100):\n",
    "    action = agent.get_action(observation)\n",
    "    observation, reward, terminated, truncated, info = env.step(action)\n",
    "    cum_reward += reward\n",
    "    if terminated:\n",
    "        break\n",
    "\n",
    "print(f'Reward = {reward:.2f}, n rounds = {i}')\n",
    "env.close()"
   ]
  }
 ],
 "metadata": {
  "kernelspec": {
   "display_name": "gen",
   "language": "python",
   "name": "python3"
  },
  "language_info": {
   "codemirror_mode": {
    "name": "ipython",
    "version": 3
   },
   "file_extension": ".py",
   "mimetype": "text/x-python",
   "name": "python",
   "nbconvert_exporter": "python",
   "pygments_lexer": "ipython3",
   "version": "3.11.6"
  }
 },
 "nbformat": 4,
 "nbformat_minor": 2
}
